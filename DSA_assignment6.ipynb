{
  "nbformat": 4,
  "nbformat_minor": 0,
  "metadata": {
    "colab": {
      "provenance": []
    },
    "kernelspec": {
      "name": "python3",
      "display_name": "Python 3"
    },
    "language_info": {
      "name": "python"
    }
  },
  "cells": [
    {
      "cell_type": "markdown",
      "source": [
        "Question 1\n",
        "\n",
        "A permutation perm of n + 1 integers of all the integers in the range [0, n] can be represented as a string s of length n where:\n",
        "\n",
        "s[i] == 'I' if perm[i] < perm[i + 1], and\n",
        "s[i] == 'D' if perm[i] > perm[i + 1].\n",
        "Given a string s, reconstruct the permutation perm and return it. If there are multiple valid permutations perm, return any of them.\n",
        "\n",
        "Example 1:\n",
        "\n",
        "Input: s = \"IDID\"\n",
        "\n",
        "Output:\n",
        "\n",
        "[0,4,1,3,2]"
      ],
      "metadata": {
        "id": "Yg5Mr6dDJzqX"
      }
    },
    {
      "cell_type": "code",
      "execution_count": 1,
      "metadata": {
        "colab": {
          "base_uri": "https://localhost:8080/"
        },
        "id": "bGk80GqcJoXe",
        "outputId": "2f30d2de-b630-4a98-9ab2-c0006373e6a6"
      },
      "outputs": [
        {
          "output_type": "stream",
          "name": "stdout",
          "text": [
            "[0, 4, 1, 3, 2]\n"
          ]
        }
      ],
      "source": [
        "def test1(s):\n",
        "    n = len(s)\n",
        "    perm = []\n",
        "    low, high = 0, n\n",
        "\n",
        "    for ch in s:\n",
        "        if ch == 'I':\n",
        "            perm.append(low)\n",
        "            low += 1\n",
        "        elif ch == 'D':\n",
        "            perm.append(high)\n",
        "            high -= 1\n",
        "\n",
        "    perm.append(low)\n",
        "\n",
        "    return perm\n",
        "s = \"IDID\"\n",
        "permutation = test1(s)\n",
        "print(permutation)"
      ]
    },
    {
      "cell_type": "markdown",
      "source": [
        "Question 2\n",
        "\n",
        "You are given an m x n integer matrix matrix with the following two properties:\n",
        "\n",
        "Each row is sorted in non-decreasing order.\n",
        "The first integer of each row is greater than the last integer of the previous row.\n",
        "Given an integer target, return true if target is in matrix or false otherwise.\n",
        "\n",
        "You must write a solution in O(log(m * n)) time complexity.\n",
        "\n",
        "Example 1:\n",
        "\n",
        "Input: matrix = [[1,3,5,7],[10,11,16,20],[23,30,34,60]], target = 3\n",
        "\n",
        "Output: true"
      ],
      "metadata": {
        "id": "Kz24H6p1J84A"
      }
    },
    {
      "cell_type": "code",
      "source": [
        "def test2(matrix, target):\n",
        "    m = len(matrix)\n",
        "    n = len(matrix[0])\n",
        "\n",
        "    left = 0\n",
        "    right = m * n - 1\n",
        "\n",
        "    while left <= right:\n",
        "        mid = (left + right) // 2\n",
        "        row = mid // n\n",
        "        col = mid % n\n",
        "\n",
        "        if matrix[row][col] == target:\n",
        "            return True\n",
        "        elif matrix[row][col] < target:\n",
        "            left = mid + 1\n",
        "        else:\n",
        "            right = mid - 1\n",
        "\n",
        "    return False\n",
        "matrix = [[1, 3, 5, 7], [10, 11, 16, 20], [23, 30, 34, 60]]\n",
        "target = 3\n",
        "\n",
        "result = test2(matrix, target)\n",
        "print(result)"
      ],
      "metadata": {
        "colab": {
          "base_uri": "https://localhost:8080/"
        },
        "id": "uyGoKjpBJ5QW",
        "outputId": "556f3aec-981a-4863-bb6d-519e600acc3c"
      },
      "execution_count": 2,
      "outputs": [
        {
          "output_type": "stream",
          "name": "stdout",
          "text": [
            "True\n"
          ]
        }
      ]
    },
    {
      "cell_type": "markdown",
      "source": [
        "Question 3\n",
        "\n",
        "Given an array of integers arr, return true if and only if it is a valid mountain array.\n",
        "\n",
        "Recall that arr is a mountain array if and only if:\n",
        "\n",
        "arr.length >= 3\n",
        "There exists some i with 0 < i < arr.length - 1 such that:\n",
        "arr[0] < arr[1] < ... < arr[i - 1] < arr[i]\n",
        "arr[i] > arr[i + 1] > ... > arr[arr.length - 1]\n",
        "Example 1:\n",
        "\n",
        "Input: arr = [2,1]\n",
        "\n",
        "Output:\n",
        "\n",
        "false"
      ],
      "metadata": {
        "id": "at7P0TIOKJBC"
      }
    },
    {
      "cell_type": "code",
      "source": [
        "def test3(arr):\n",
        "    n = len(arr)\n",
        "    if n < 3:\n",
        "        return False\n",
        "\n",
        "    i = 0\n",
        "    while i + 1 < n and arr[i] < arr[i + 1]:\n",
        "        i += 1\n",
        "\n",
        "    if i == 0 or i == n - 1:\n",
        "        return False\n",
        "\n",
        "    while i + 1 < n and arr[i] > arr[i + 1]:\n",
        "        i += 1\n",
        "\n",
        "    return i == n - 1\n",
        "arr = [2, 1]\n",
        "result = test3(arr)\n",
        "print(result)\n"
      ],
      "metadata": {
        "colab": {
          "base_uri": "https://localhost:8080/"
        },
        "id": "vUndSIjpKJ4i",
        "outputId": "c81abf61-87b0-4994-ea23-4d8a41c6eadc"
      },
      "execution_count": 3,
      "outputs": [
        {
          "output_type": "stream",
          "name": "stdout",
          "text": [
            "False\n"
          ]
        }
      ]
    },
    {
      "cell_type": "markdown",
      "source": [
        "Question 4\n",
        "\n",
        "Given a binary array nums, return the maximum length of a contiguous subarray with an equal number of 0 and 1.\n",
        "\n",
        "Example 1:\n",
        "\n",
        "Input: nums = [0,1]\n",
        "\n",
        "Output: 2\n",
        "\n",
        "Explanation:\n",
        "\n",
        "[0, 1] is the longest contiguous subarray with an equal number of 0 and 1."
      ],
      "metadata": {
        "id": "Q6MLwgOzKdba"
      }
    },
    {
      "cell_type": "code",
      "source": [
        "def test4(nums):\n",
        "    count_dict = {0: -1}\n",
        "    max_length = count = 0\n",
        "\n",
        "    for i, num in enumerate(nums):\n",
        "        count += 1 if num == 1 else -1\n",
        "\n",
        "        if count in count_dict:\n",
        "            max_length = max(max_length, i - count_dict[count])\n",
        "        else:\n",
        "            count_dict[count] = i\n",
        "\n",
        "    return max_length\n",
        "nums = [0, 1]\n",
        "max_len = test4(nums)\n",
        "print(max_len)"
      ],
      "metadata": {
        "colab": {
          "base_uri": "https://localhost:8080/"
        },
        "id": "Q2okqPJjKcB2",
        "outputId": "dfcaa6bc-408c-4975-d7c3-cd6ee2bd437f"
      },
      "execution_count": 4,
      "outputs": [
        {
          "output_type": "stream",
          "name": "stdout",
          "text": [
            "2\n"
          ]
        }
      ]
    },
    {
      "cell_type": "markdown",
      "source": [
        "Question 5\n",
        "\n",
        "The product sum of two equal-length arrays a and b is equal to the sum of a[i] * b[i] for all 0 <= i < a.length (0-indexed).\n",
        "\n",
        "For example, if a = [1,2,3,4] and b = [5,2,3,1], the product sum would be 15 + 22 + 33 + 41 = 22.\n",
        "Given two arrays nums1 and nums2 of length n, return the minimum product sum* if you are allowed to rearrange the order of the elements in* nums1.\n",
        "\n",
        "Example 1:\n",
        "\n",
        "Input: nums1 = [5,3,4,2], nums2 = [4,2,2,5]\n",
        "\n",
        "Output: 40\n",
        "\n",
        "Explanation:\n",
        "\n",
        "We can rearrange nums1 to become [3,5,4,2]. The product sum of [3,5,4,2] and [4,2,2,5] is 34 + 52 + 42 + 25 =40"
      ],
      "metadata": {
        "id": "-hw4s39SKyDj"
      }
    },
    {
      "cell_type": "code",
      "source": [
        "def test5(nums1, nums2):\n",
        "    nums1.sort()\n",
        "    nums2.sort(reverse=True)\n",
        "\n",
        "    min_product_sum = 0\n",
        "\n",
        "    for num1, num2 in zip(nums1, nums2):\n",
        "        min_product_sum += num1 * num2\n",
        "\n",
        "    return min_product_sum\n",
        "nums1 = [5, 3, 4, 2]\n",
        "nums2 = [4, 2, 2, 5]\n",
        "min_sum = test5(nums1, nums2)\n",
        "print(min_sum)"
      ],
      "metadata": {
        "colab": {
          "base_uri": "https://localhost:8080/"
        },
        "id": "9JBifaMRKpNN",
        "outputId": "5197d107-bc8b-4438-f13f-79246250d811"
      },
      "execution_count": 5,
      "outputs": [
        {
          "output_type": "stream",
          "name": "stdout",
          "text": [
            "40\n"
          ]
        }
      ]
    },
    {
      "cell_type": "markdown",
      "source": [
        "Question 6\n",
        "\n",
        "An integer array original is transformed into a doubled array changed by appending twice the value of every element in original, and then randomly shuffling the resulting array.\n",
        "\n",
        "Given an array changed, return original if changed is a doubled* array. If* changed is not a doubled* array, return an empty array. The elements in* original may be returned in any* order*.\n",
        "\n",
        "Example 1:\n",
        "\n",
        "Input: changed = [1,3,4,2,6,8]\n",
        "\n",
        "Output: [1,3,4]\n",
        "\n",
        "Explanation: One possible original array could be [1,3,4]:\n",
        "\n",
        "Twice the value of 1 is 1 * 2 = 2.\n",
        "Twice the value of 3 is 3 * 2 = 6.\n",
        "Twice the value of 4 is 4 * 2 = 8.\n",
        "Other original arrays could be [4,3,1] or [3,1,4]."
      ],
      "metadata": {
        "id": "XqLNmAcIK-zO"
      }
    },
    {
      "cell_type": "code",
      "source": [
        "def test6(changed):\n",
        "    if len(changed) % 2 != 0:\n",
        "        return []\n",
        "\n",
        "    changed.sort()\n",
        "    seen = set()\n",
        "    result = []\n",
        "\n",
        "    for num in changed:\n",
        "        if num / 2 in seen:\n",
        "            seen.remove(num / 2)\n",
        "            result.append(int(num / 2))\n",
        "        else:\n",
        "            seen.add(num)\n",
        "\n",
        "    if len(seen) > 0:\n",
        "        return []\n",
        "\n",
        "    return result\n",
        "changed = [1, 3, 4, 2, 6, 8]\n",
        "original = test6(changed)\n",
        "print(original)"
      ],
      "metadata": {
        "colab": {
          "base_uri": "https://localhost:8080/"
        },
        "id": "KjDmvDyPK4U9",
        "outputId": "b3311e17-eec1-4d7e-d250-2140a19b5229"
      },
      "execution_count": 6,
      "outputs": [
        {
          "output_type": "stream",
          "name": "stdout",
          "text": [
            "[1, 3, 4]\n"
          ]
        }
      ]
    },
    {
      "cell_type": "markdown",
      "source": [
        "Question 7 Given a positive integer n, generate an n x n matrix filled with elements from 1 to n2 in spiral order.\n",
        "\n",
        "Example 1: Input: n = 3\n",
        "\n",
        "Output: [[1,2,3],[8,9,4],[7,6,5]]"
      ],
      "metadata": {
        "id": "51AkX6jhLLqr"
      }
    },
    {
      "cell_type": "code",
      "source": [
        "def test7(n):\n",
        "    result = [[0] * n for _ in range(n)]\n",
        "    num = 1\n",
        "    row_start, row_end = 0, n - 1\n",
        "    col_start, col_end = 0, n - 1\n",
        "\n",
        "    while num <= n * n:\n",
        "        for col in range(col_start, col_end + 1):\n",
        "            result[row_start][col] = num\n",
        "            num += 1\n",
        "        row_start += 1\n",
        "\n",
        "        for row in range(row_start, row_end + 1):\n",
        "            result[row][col_end] = num\n",
        "            num += 1\n",
        "        col_end -= 1\n",
        "\n",
        "        for col in range(col_end, col_start - 1, -1):\n",
        "            result[row_end][col] = num\n",
        "            num += 1\n",
        "        row_end -= 1\n",
        "\n",
        "        for row in range(row_end, row_start - 1, -1):\n",
        "            result[row][col_start] = num\n",
        "            num += 1\n",
        "        col_start += 1\n",
        "\n",
        "    return result"
      ],
      "metadata": {
        "id": "gP4bjWi5LGGM"
      },
      "execution_count": 7,
      "outputs": []
    },
    {
      "cell_type": "code",
      "source": [
        "n = 3\n",
        "result = test7(n)\n",
        "print(result)"
      ],
      "metadata": {
        "colab": {
          "base_uri": "https://localhost:8080/"
        },
        "id": "WMnV9DVqLTA3",
        "outputId": "d6b87a22-9f78-4e2f-ff45-5074e5b36261"
      },
      "execution_count": 8,
      "outputs": [
        {
          "output_type": "stream",
          "name": "stdout",
          "text": [
            "[[1, 2, 3], [8, 9, 4], [7, 6, 5]]\n"
          ]
        }
      ]
    },
    {
      "cell_type": "markdown",
      "source": [
        "Question 8\n",
        "\n",
        "Given two sparse matrices mat1 of size m x k and mat2 of size k x n, return the result of mat1 x mat2. You may assume that multiplication is always possible.\n",
        "\n",
        "Example 1: Input: mat1 = [[1,0,0],[-1,0,3]], mat2 = [[7,0,0],[0,0,0],[0,0,1]]\n",
        "\n",
        "Output:\n",
        "\n",
        "[[7,0,0],[-7,0,3]]"
      ],
      "metadata": {
        "id": "1SjwJn8GLc6L"
      }
    },
    {
      "cell_type": "code",
      "source": [
        "def test8(mat1, mat2):\n",
        "    m, k, n = len(mat1), len(mat1[0]), len(mat2[0])\n",
        "    result = [[0] * n for _ in range(m)]\n",
        "\n",
        "    for i in range(m):\n",
        "        for j in range(n):\n",
        "            for x in range(k):  # Corrected index variable\n",
        "                result[i][j] += mat1[i][x] * mat2[x][j]  # Corrected indexing\n",
        "\n",
        "    return result\n",
        "mat1 = [[1, 0, 0], [-1, 0, 3]]\n",
        "mat2 = [[7, 0, 0], [0, 0, 0], [0, 0, 1]]\n",
        "result = test8(mat1, mat2)\n",
        "print(result)"
      ],
      "metadata": {
        "colab": {
          "base_uri": "https://localhost:8080/"
        },
        "id": "pmkJLUehLWys",
        "outputId": "c69c8373-a230-42ac-b867-4f407770744f"
      },
      "execution_count": 9,
      "outputs": [
        {
          "output_type": "stream",
          "name": "stdout",
          "text": [
            "[[7, 0, 0], [-7, 0, 3]]\n"
          ]
        }
      ]
    },
    {
      "cell_type": "code",
      "source": [],
      "metadata": {
        "id": "qJN7Jm5ULoKL"
      },
      "execution_count": null,
      "outputs": []
    }
  ]
}