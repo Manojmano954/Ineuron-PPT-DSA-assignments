{
  "nbformat": 4,
  "nbformat_minor": 0,
  "metadata": {
    "colab": {
      "provenance": []
    },
    "kernelspec": {
      "name": "python3",
      "display_name": "Python 3"
    },
    "language_info": {
      "name": "python"
    }
  },
  "cells": [
    {
      "cell_type": "markdown",
      "source": [
        "💡 Question 1 Given three integer arrays arr1, arr2 and arr3 sorted in strictly increasing order, return a sorted array of only the integers that appeared in all three arrays.\n",
        "\n",
        "Example 1:\n",
        "\n",
        "Input: arr1 = [1,2,3,4,5], arr2 = [1,2,5,7,9], arr3 = [1,3,4,5,8]\n",
        "\n",
        "Output: [1,5]\n",
        "\n",
        "Explanation: Only 1 and 5 appeared in the three arrays."
      ],
      "metadata": {
        "id": "Rz-UQ_1RD-d0"
      }
    },
    {
      "cell_type": "code",
      "execution_count": 1,
      "metadata": {
        "colab": {
          "base_uri": "https://localhost:8080/"
        },
        "id": "6XeAd-2ODemQ",
        "outputId": "fadb1a09-b202-4d5a-eefc-71f7363bc926"
      },
      "outputs": [
        {
          "output_type": "execute_result",
          "data": {
            "text/plain": [
              "[1, 5]"
            ]
          },
          "metadata": {},
          "execution_count": 1
        }
      ],
      "source": [
        "def find_common_elements(arr1, arr2, arr3):\n",
        "    set1 = set(arr1)\n",
        "    set2 = set(arr2)\n",
        "    set3 = set(arr3)\n",
        "\n",
        "    common = set1.intersection(set2, set3)\n",
        "\n",
        "    sorted_common = sorted(list(common))\n",
        "\n",
        "    return sorted_common\n",
        "find_common_elements([1,2,3,4,5],[1,2,5,7,9],[1,3,4,5,8])"
      ]
    },
    {
      "cell_type": "markdown",
      "source": [
        "💡 Question 2\n",
        "\n",
        "Given two 0-indexed integer arrays nums1 and nums2, return a list answer of size 2 where:\n",
        "\n",
        "answer[0] is a list of all distinct* integers in* nums1 which are not* present in* nums2.\n",
        "answer[1] is a list of all distinct* integers in* nums2 which are not* present in* nums1.\n",
        "Note that the integers in the lists may be returned in any order.\n",
        "\n",
        "Example 1:\n",
        "\n",
        "Input: nums1 = [1,2,3], nums2 = [2,4,6]\n",
        "\n",
        "Output: [[1,3],[4,6]]\n",
        "\n",
        "Explanation:\n",
        "\n",
        "For nums1, nums1[1] = 2 is present at index 0 of nums2, whereas nums1[0] = 1 and nums1[2] = 3 are not present in nums2. Therefore, answer[0] = [1,3].\n",
        "For nums2, nums2[0] = 2 is present at index 1 of nums1, whereas nums2[1] = 4 and nums2[2] = 6 are not present in nums2. Therefore, answer[1] = [4,6]."
      ],
      "metadata": {
        "id": "XN6Mja9rEKg0"
      }
    },
    {
      "cell_type": "code",
      "source": [
        "def find_disjoint_arrays(nums1, nums2):\n",
        "    distinct_nums1 = set(nums1)\n",
        "    distinct_nums2 = set(nums2)\n",
        "\n",
        "    answer = [[num for num in distinct_nums1 if num not in distinct_nums2],\n",
        "              [num for num in distinct_nums2 if num not in distinct_nums1]]\n",
        "\n",
        "    return answer\n",
        "find_disjoint_arrays([1,2,3],[2,4,6])"
      ],
      "metadata": {
        "colab": {
          "base_uri": "https://localhost:8080/"
        },
        "id": "m5Mgx-CtED56",
        "outputId": "ddf119b7-94fb-4119-ffaf-26b104402097"
      },
      "execution_count": 2,
      "outputs": [
        {
          "output_type": "execute_result",
          "data": {
            "text/plain": [
              "[[1, 3], [4, 6]]"
            ]
          },
          "metadata": {},
          "execution_count": 2
        }
      ]
    },
    {
      "cell_type": "markdown",
      "source": [
        "💡 Question 3 Given a 2D integer array matrix, return the transpose* of* matrix.\n",
        "\n",
        "The transpose of a matrix is the matrix flipped over its main diagonal, switching the matrix's row and column indices.\n",
        "\n",
        "Example 1:\n",
        "\n",
        "Input: matrix = [[1,2,3],[4,5,6],[7,8,9]]\n",
        "\n",
        "Output: [[1,4,7],[2,5,8],[3,6,9]]"
      ],
      "metadata": {
        "id": "CZRjPQXjEhW5"
      }
    },
    {
      "cell_type": "code",
      "source": [
        "def get_matrix_transpose(matrix):\n",
        "    rows = len(matrix)\n",
        "    cols = len(matrix[0])\n",
        "\n",
        "    transposed = [[0] * rows for _ in range(cols)]\n",
        "\n",
        "    for i in range(rows):\n",
        "        for j in range(cols):\n",
        "            transposed[j][i] = matrix[i][j]\n",
        "\n",
        "    return transposed\n",
        "get_matrix_transpose([[1,2,3],[4,5,6],[7,8,9]])"
      ],
      "metadata": {
        "colab": {
          "base_uri": "https://localhost:8080/"
        },
        "id": "fSqFQFeHEcyT",
        "outputId": "ac86d7ee-4ca1-4705-d77c-11a48c8a528d"
      },
      "execution_count": 3,
      "outputs": [
        {
          "output_type": "execute_result",
          "data": {
            "text/plain": [
              "[[1, 4, 7], [2, 5, 8], [3, 6, 9]]"
            ]
          },
          "metadata": {},
          "execution_count": 3
        }
      ]
    },
    {
      "cell_type": "markdown",
      "source": [
        "Question 4 Given an integer array nums of 2n integers, group these integers into n pairs (a1, b1), (a2, b2), ..., (an, bn) such that the sum of min(ai, bi) for all i is maximized. Return the maximized sum.\n",
        "\n",
        "Example 1:\n",
        "\n",
        "Input: nums = [1,4,3,2]\n",
        "\n",
        "Output: 4\n",
        "\n",
        "Explanation: All possible pairings (ignoring the ordering of elements) are:\n",
        "\n",
        "(1, 4), (2, 3) -> min(1, 4) + min(2, 3) = 1 + 2 = 3\n",
        "\n",
        "(1, 3), (2, 4) -> min(1, 3) + min(2, 4) = 1 + 2 = 3\n",
        "\n",
        "(1, 2), (3, 4) -> min(1, 2) + min(3, 4) = 1 + 3 = 4\n",
        "\n",
        "So the maximum possible sum is 4."
      ],
      "metadata": {
        "id": "qmn0M8IME7Xv"
      }
    },
    {
      "cell_type": "code",
      "source": [
        "def maximize(nums):\n",
        "    nums.sort()\n",
        "    max_sum = 0\n",
        "\n",
        "    for i in range(0, len(nums), 2):\n",
        "        max_sum += nums[i]\n",
        "\n",
        "    return max_sum\n",
        "maximize([1,4,3,2])"
      ],
      "metadata": {
        "colab": {
          "base_uri": "https://localhost:8080/"
        },
        "id": "KtqfwuX6EmOo",
        "outputId": "698d63a1-bca1-45cb-c964-de980a205f89"
      },
      "execution_count": 4,
      "outputs": [
        {
          "output_type": "execute_result",
          "data": {
            "text/plain": [
              "4"
            ]
          },
          "metadata": {},
          "execution_count": 4
        }
      ]
    },
    {
      "cell_type": "markdown",
      "source": [
        "💡 Question 5 You have n coins and you want to build a staircase with these coins. The staircase consists of k rows where the ith row has exactly i coins. The last row of the staircase may be incomplete.\n",
        "\n",
        "Given the integer n, return the number of complete rows* of the staircase you will build*.\n",
        "\n",
        "Example 1:\n",
        "\n",
        "\n",
        "v2.jpg\n",
        "\n",
        "Input: n = 5\n",
        "\n",
        "Output: 2\n",
        "\n",
        "Explanation: Because the 3rd row is incomplete, we return 2."
      ],
      "metadata": {
        "id": "2mmdWZqhFDsu"
      }
    },
    {
      "cell_type": "code",
      "source": [
        "def count_complete_rows(n):\n",
        "    left = 0\n",
        "    right = n\n",
        "\n",
        "    while left <= right:\n",
        "        mid = left + (right - left) // 2\n",
        "        curr = mid * (mid + 1) // 2\n",
        "\n",
        "        if curr == n:\n",
        "            return mid\n",
        "\n",
        "        if curr > n:\n",
        "            right = mid - 1\n",
        "        else:\n",
        "            left = mid + 1\n",
        "\n",
        "    return right\n",
        "count_complete_rows(5)"
      ],
      "metadata": {
        "colab": {
          "base_uri": "https://localhost:8080/"
        },
        "id": "9rSqmVF2E_XZ",
        "outputId": "af7d8082-d98c-4c62-ebd5-640d1cba9498"
      },
      "execution_count": 5,
      "outputs": [
        {
          "output_type": "execute_result",
          "data": {
            "text/plain": [
              "2"
            ]
          },
          "metadata": {},
          "execution_count": 5
        }
      ]
    },
    {
      "cell_type": "markdown",
      "source": [
        "💡 Question 6 Given an integer array nums sorted in non-decreasing order, return an array of the squares of each number* sorted in non-decreasing order*.\n",
        "\n",
        "Example 1:\n",
        "\n",
        "Input: nums = [-4,-1,0,3,10]\n",
        "\n",
        "Output: [0,1,9,16,100]\n",
        "\n",
        "Explanation: After squaring, the array becomes [16,1,0,9,100]. After sorting, it becomes [0,1,9,16,100]"
      ],
      "metadata": {
        "id": "jk3WsNnxFNoQ"
      }
    },
    {
      "cell_type": "code",
      "source": [
        "def s_squares(nums):\n",
        "    squared = [num ** 2 for num in nums]\n",
        "    squared.sort()\n",
        "    return squared\n",
        "s_squares([-4,-1,0,3,10])"
      ],
      "metadata": {
        "colab": {
          "base_uri": "https://localhost:8080/"
        },
        "id": "OIxv36CCFIKN",
        "outputId": "a0da98c7-3521-437b-be90-16cc02b627f8"
      },
      "execution_count": 6,
      "outputs": [
        {
          "output_type": "execute_result",
          "data": {
            "text/plain": [
              "[0, 1, 9, 16, 100]"
            ]
          },
          "metadata": {},
          "execution_count": 6
        }
      ]
    },
    {
      "cell_type": "markdown",
      "source": [
        "💡 Question 7 You are given an m x n matrix M initialized with all 0's and an array of operations ops, where ops[i] = [ai, bi] means M[x][y] should be incremented by one for all 0 <= x < ai and 0 <= y < bi.\n",
        "\n",
        "Count and return the number of maximum integers in the matrix after performing all the operations\n",
        "\n",
        "Example 1:\n",
        "\n",
        "q4.jpg\n",
        "\n",
        "Input: m = 3, n = 3, ops = [[2,2],[3,3]]\n",
        "\n",
        "Output: 4\n",
        "\n",
        "Explanation: The maximum integer in M is 2, and there are four of it in M. So return 4."
      ],
      "metadata": {
        "id": "h-7MTLZIFVVY"
      }
    },
    {
      "cell_type": "code",
      "source": [
        "def maxxx(m, n, ops):\n",
        "    min_m = m\n",
        "    min_n = n\n",
        "\n",
        "    for op in ops:\n",
        "        min_m = min(min_m, op[0])\n",
        "        min_n = min(min_n, op[1])\n",
        "\n",
        "    return min_m * min_n\n",
        "maxxx(3,3,[[2,2],[3,3]])\n"
      ],
      "metadata": {
        "colab": {
          "base_uri": "https://localhost:8080/"
        },
        "id": "fmMhCRhDFRfO",
        "outputId": "aa17ccef-22e7-4730-dd17-5ba8801decc5"
      },
      "execution_count": 8,
      "outputs": [
        {
          "output_type": "execute_result",
          "data": {
            "text/plain": [
              "4"
            ]
          },
          "metadata": {},
          "execution_count": 8
        }
      ]
    },
    {
      "cell_type": "markdown",
      "source": [
        "Question 8\n",
        "\n",
        "Given the array nums consisting of 2n elements in the form [x1,x2,...,xn,y1,y2,...,yn].\n",
        "\n",
        "Return the array in the form [x1,y1,x2,y2,...,xn,yn].\n",
        "\n",
        "Example 1:\n",
        "\n",
        "Input: nums = [2,5,1,3,4,7], n = 3\n",
        "\n",
        "Output: [2,3,5,4,1,7]\n",
        "\n",
        "Explanation: Since x1=2, x2=5, x3=1, y1=3, y2=4, y3=7 then the answer is [2,3,5,4,1,7]."
      ],
      "metadata": {
        "id": "yatSGFnjFhqJ"
      }
    },
    {
      "cell_type": "code",
      "source": [
        "def shuffle_array(nums, n):\n",
        "    shuffled = []\n",
        "\n",
        "    for i in range(n):\n",
        "        shuffled.append(nums[i])\n",
        "        shuffled.append(nums[i + n])\n",
        "\n",
        "    return shuffled\n",
        "shuffle_array([2,5,1,3,4,7],3)"
      ],
      "metadata": {
        "colab": {
          "base_uri": "https://localhost:8080/"
        },
        "id": "YJVOXOJZFZmz",
        "outputId": "c05a4e75-71f5-4e6d-a7be-f1b80ac98ea1"
      },
      "execution_count": 9,
      "outputs": [
        {
          "output_type": "execute_result",
          "data": {
            "text/plain": [
              "[2, 3, 5, 4, 1, 7]"
            ]
          },
          "metadata": {},
          "execution_count": 9
        }
      ]
    },
    {
      "cell_type": "code",
      "source": [],
      "metadata": {
        "id": "-YLOo-YWFlw0"
      },
      "execution_count": null,
      "outputs": []
    }
  ]
}