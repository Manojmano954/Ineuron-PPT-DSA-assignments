{
  "nbformat": 4,
  "nbformat_minor": 0,
  "metadata": {
    "colab": {
      "provenance": []
    },
    "kernelspec": {
      "name": "python3",
      "display_name": "Python 3"
    },
    "language_info": {
      "name": "python"
    }
  },
  "cells": [
    {
      "cell_type": "markdown",
      "source": [
        "\n",
        "\n",
        "Question 1 Given an integer array nums of 2n integers, group these integers into n pairs (a1, b1), (a2, b2),..., (an, bn) such that the sum of min(ai, bi) for all i is maximized. Return the maximized sum.\n",
        "\n",
        "Example 1: Input: nums = [1,4,3,2] Output: 4\n",
        "\n",
        "Explanation: All possible pairings (ignoring the ordering of elements) are:\n",
        "\n",
        "    (1, 4), (2, 3) -> min(1, 4) + min(2, 3) = 1 + 2 = 3\n",
        "    (1, 3), (2, 4) -> min(1, 3) + min(2, 4) = 1 + 2 = 3\n",
        "    (1, 2), (3, 4) -> min(1, 2) + min(3, 4) = 1 + 3 = 4\n",
        "\n",
        "So the maximum possible sum is 4\n"
      ],
      "metadata": {
        "id": "ch0NseRsIKif"
      }
    },
    {
      "cell_type": "code",
      "source": [
        "def pair_sum(nums):\n",
        "    nums.sort()\n",
        "    max_sum = 0\n",
        "    for i in range(0, len(nums), 2):\n",
        "        max_sum += min(nums[i], nums[i+1])\n",
        "    return max_sum\n",
        "\n",
        "nums = [1, 4, 3, 2]\n",
        "result = pair_sum(nums)\n",
        "print(result)"
      ],
      "metadata": {
        "colab": {
          "base_uri": "https://localhost:8080/"
        },
        "id": "rz6fxJjRIU74",
        "outputId": "89d8cc99-ddca-45d4-a690-108c7c514225"
      },
      "execution_count": 2,
      "outputs": [
        {
          "output_type": "stream",
          "name": "stdout",
          "text": [
            "4\n"
          ]
        }
      ]
    },
    {
      "cell_type": "markdown",
      "source": [
        "\n",
        "\n",
        "Question 2: Alice has n candies, where the ith candy is of type candyType[i]. Alice noticed that she started to gain weight, so she visited a doctor.\n",
        "\n",
        "The doctor advised Alice to only eat n / 2 of the candies she has (n is always even). Alice likes her candies very much, and she wants to eat the maximum number of different types of candies while still following the doctor's advice.\n",
        "\n",
        "Given the integer array candyType of length n, return the maximum number of different types of candies she can eat if she only eats n / 2 of them.\n",
        "\n",
        "Example 1: Input: candyType = [1,1,2,2,3,3] Output: 3\n",
        "\n",
        "Explanation: Alice can only eat 6 / 2 = 3 candies. Since there are only 3 types, she can eat one of each type.\n"
      ],
      "metadata": {
        "id": "1OgTHkbrKaX-"
      }
    },
    {
      "cell_type": "code",
      "source": [
        "def max_candies(candyType):\n",
        "    max_candies = len(candyType) // 2\n",
        "    unique_candies = set()\n",
        "\n",
        "    for candy in candyType:\n",
        "        if candy not in unique_candies:\n",
        "            unique_candies.add(candy)\n",
        "\n",
        "    if len(unique_candies) > max_candies:\n",
        "        return max_candies\n",
        "    else:\n",
        "        return len(unique_candies)"
      ],
      "metadata": {
        "id": "hmUs_UPfIpoC"
      },
      "execution_count": 3,
      "outputs": []
    },
    {
      "cell_type": "code",
      "source": [
        "candyType = [1, 1, 2, 2, 3, 3]\n",
        "result = max_candies(candyType)\n",
        "print(result)"
      ],
      "metadata": {
        "colab": {
          "base_uri": "https://localhost:8080/"
        },
        "id": "M4XicjM8Kf7o",
        "outputId": "11ea5e51-ae26-4f42-a7a8-9fcaab8cd061"
      },
      "execution_count": 4,
      "outputs": [
        {
          "output_type": "stream",
          "name": "stdout",
          "text": [
            "3\n"
          ]
        }
      ]
    },
    {
      "cell_type": "markdown",
      "source": [
        "\n",
        "\n",
        "Question 3 We define a harmonious array as an array where the difference between its maximum value and its minimum value is exactly 1.\n",
        "\n",
        "Given an integer array nums, return the length of its longest harmonious subsequence among all its possible subsequences.\n",
        "\n",
        "A subsequence of an array is a sequence that can be derived from the array by deleting some or no elements without changing the order of the remaining elements.\n",
        "\n",
        "Example 1: Input: nums = [1,3,2,2,5,2,3,7] Output: 5\n",
        "\n",
        "Explanation: The longest harmonious subsequence is [3,2,2,2,3].\n"
      ],
      "metadata": {
        "id": "XwsGDVpJKoi4"
      }
    },
    {
      "cell_type": "code",
      "source": [
        "def longest_harmonious_subsequence(nums):\n",
        "    freq_map = {}\n",
        "    result = 0\n",
        "\n",
        "    # Count the frequency of each number\n",
        "    for num in nums:\n",
        "        freq_map[num] = freq_map.get(num, 0) + 1\n",
        "\n",
        "    # Check each number in the frequency map\n",
        "    for num in freq_map:\n",
        "        if num + 1 in freq_map:\n",
        "            current_length = freq_map[num] + freq_map[num + 1]\n",
        "            result = max(result, current_length)\n",
        "\n",
        "    return result"
      ],
      "metadata": {
        "id": "2RUcL7MZKjfg"
      },
      "execution_count": 5,
      "outputs": []
    },
    {
      "cell_type": "code",
      "source": [
        "nums = [1, 3, 2, 2, 5, 2, 3, 7]\n",
        "result = longest_harmonious_subsequence(nums)\n",
        "print(result)"
      ],
      "metadata": {
        "colab": {
          "base_uri": "https://localhost:8080/"
        },
        "id": "6ZirHOjVKsva",
        "outputId": "4bb9745d-0f20-4654-dfe4-ef691986cec9"
      },
      "execution_count": 6,
      "outputs": [
        {
          "output_type": "stream",
          "name": "stdout",
          "text": [
            "5\n"
          ]
        }
      ]
    },
    {
      "cell_type": "markdown",
      "source": [
        "\n",
        "\n",
        "Question 4 You have a long flowerbed in which some of the plots are planted, and some are not. However, flowers cannot be planted in adjacent plots. Given an integer array flowerbed containing 0's and 1's, where 0 means empty and 1 means not empty, and an integer n, return true if n new flowers can be planted in the flowerbed without violating the no-adjacent-flowers rule and false otherwise.\n",
        "\n",
        "Example 1: Input: flowerbed = [1,0,0,0,1], n = 1 Output: true\n"
      ],
      "metadata": {
        "id": "1wDPyGhqK1j_"
      }
    },
    {
      "cell_type": "code",
      "source": [
        "def check_flowerbed(flowerbed, n):\n",
        "    flower_count = 0\n",
        "    prev_planted = 0\n",
        "    length = len(flowerbed)\n",
        "\n",
        "    for i in range(length):\n",
        "        if flowerbed[i] == 0:\n",
        "            if (i == 0 or flowerbed[i - 1] == 0) and (i == length - 1 or flowerbed[i + 1] == 0):\n",
        "                flowerbed[i] = 1\n",
        "                flower_count += 1\n",
        "\n",
        "        if flower_count >= n:\n",
        "            return True\n",
        "\n",
        "    return False"
      ],
      "metadata": {
        "id": "HMrQQWgNKwLK"
      },
      "execution_count": 7,
      "outputs": []
    },
    {
      "cell_type": "code",
      "source": [
        "flowerbed = [1, 0, 0, 0, 1]\n",
        "n = 1\n",
        "result = check_flowerbed(flowerbed, n)\n",
        "print(result)"
      ],
      "metadata": {
        "colab": {
          "base_uri": "https://localhost:8080/"
        },
        "id": "qkSH3uoBK-qa",
        "outputId": "c285e381-45a7-49ee-d57d-1a03291afdbb"
      },
      "execution_count": 8,
      "outputs": [
        {
          "output_type": "stream",
          "name": "stdout",
          "text": [
            "True\n"
          ]
        }
      ]
    },
    {
      "cell_type": "markdown",
      "source": [
        "\n",
        "\n",
        "Question 6\n",
        "Given an array of integers nums which is sorted in ascending order, and an integer target, write a function to search target in nums. If target exists, then return its index. Otherwise, return -1.\n",
        "\n",
        "You must write an algorithm with O(log n) runtime complexity.\n",
        "\n",
        "Input: nums = [-1,0,3,5,9,12], target = 9 Output: 4\n",
        "\n",
        "Explanation: 9 exists in nums and its index is 4\n"
      ],
      "metadata": {
        "id": "mcd1-2rJLJr9"
      }
    },
    {
      "cell_type": "code",
      "source": [
        "def binary_search(nums, target):\n",
        "    left = 0\n",
        "    right = len(nums) - 1\n",
        "\n",
        "    while left <= right:\n",
        "        mid = left + (right - left) // 2\n",
        "\n",
        "        if nums[mid] == target:\n",
        "            return mid\n",
        "        elif nums[mid] < target:\n",
        "            left = mid + 1\n",
        "        else:\n",
        "            right = mid - 1\n",
        "\n",
        "    return -1"
      ],
      "metadata": {
        "id": "SJu76JZ2LKP9"
      },
      "execution_count": 9,
      "outputs": []
    },
    {
      "cell_type": "code",
      "source": [
        "nums = [-1, 0, 3, 5, 9, 12]\n",
        "target = 9\n",
        "result = binary_search(nums, target)\n",
        "print(result)\n"
      ],
      "metadata": {
        "colab": {
          "base_uri": "https://localhost:8080/"
        },
        "id": "4Uk8vTZVLNy2",
        "outputId": "df2ba3d6-e297-4d61-98bb-4a3b3d0460b6"
      },
      "execution_count": 10,
      "outputs": [
        {
          "output_type": "stream",
          "name": "stdout",
          "text": [
            "4\n"
          ]
        }
      ]
    },
    {
      "cell_type": "markdown",
      "source": [
        "\n",
        "\n",
        "Question 7 An array is monotonic if it is either monotone increasing or monotone decreasing.\n",
        "\n",
        "An array nums is monotone increasing if for all i <= j, nums[i] <= nums[j]. An array nums is monotone decreasing if for all i <= j, nums[i] >= nums[j].\n",
        "\n",
        "Given an integer array nums, return true if the given array is monotonic, or false otherwise.\n",
        "\n",
        "Example 1: Input: nums = [1,2,2,3] Output: true"
      ],
      "metadata": {
        "id": "m2reaNmjLUwF"
      }
    },
    {
      "cell_type": "code",
      "source": [
        "def is_array_monotonic(array):\n",
        "    is_increasing = True\n",
        "    is_decreasing = True\n",
        "\n",
        "    for i in range(1, len(array)):\n",
        "        if array[i] < array[i - 1]:\n",
        "            is_increasing = False\n",
        "        if array[i] > array[i - 1]:\n",
        "            is_decreasing = False\n",
        "\n",
        "    return is_increasing or is_decreasing"
      ],
      "metadata": {
        "id": "4ApuS2tZLRJS"
      },
      "execution_count": 11,
      "outputs": []
    },
    {
      "cell_type": "code",
      "source": [
        "array = [1, 2, 2, 3]\n",
        "result = is_array_monotonic(array)\n",
        "print(result)"
      ],
      "metadata": {
        "colab": {
          "base_uri": "https://localhost:8080/"
        },
        "id": "LsuHR895LaAx",
        "outputId": "feacee2d-97b8-45f5-c683-f445e0e3abe4"
      },
      "execution_count": 12,
      "outputs": [
        {
          "output_type": "stream",
          "name": "stdout",
          "text": [
            "True\n"
          ]
        }
      ]
    },
    {
      "cell_type": "markdown",
      "source": [
        "\n",
        "\n",
        "Question 8 You are given an integer array nums and an integer k.\n",
        "\n",
        "In one operation, you can choose any index i where 0 <= i < nums.length and change nums[i] to nums[i] + x where x is an integer from the range [-k, k]. You can apply this operation at most once for each index i.\n",
        "\n",
        "The score of nums is the difference between the maximum and minimum elements in nums.\n",
        "\n",
        "Return the minimum score of nums after applying the mentioned operation at most once for each index in it.\n",
        "\n",
        "Example 1: Input: nums = [1], k = 0 Output: 0\n",
        "\n",
        "Explanation: The score is max(nums) - min(nums) = 1 - 1 = 0.\n"
      ],
      "metadata": {
        "id": "Py0Wpc8uLjQ0"
      }
    },
    {
      "cell_type": "code",
      "source": [
        "def min_score(nums, k):\n",
        "    nums.sort()\n",
        "    min_score = nums[-1] - nums[0]\n",
        "\n",
        "    for i in range(1, len(nums)-1):\n",
        "        max_val = max(nums[i] + k, nums[-1] - k)\n",
        "        min_val = min(nums[0] + k, nums[i] - k)\n",
        "        min_score = min(min_score, max_val - min_val)\n",
        "\n",
        "    return min_score\n",
        "\n",
        "nums = [1]\n",
        "k = 0\n",
        "result = min_score(nums, k)\n",
        "print(result)\n"
      ],
      "metadata": {
        "colab": {
          "base_uri": "https://localhost:8080/"
        },
        "id": "1mCFdNRiLdsl",
        "outputId": "030db872-fc10-4b4e-8cdb-48cb507cae04"
      },
      "execution_count": 13,
      "outputs": [
        {
          "output_type": "stream",
          "name": "stdout",
          "text": [
            "0\n"
          ]
        }
      ]
    },
    {
      "cell_type": "code",
      "source": [],
      "metadata": {
        "id": "O464B6fGLo0Z"
      },
      "execution_count": null,
      "outputs": []
    }
  ]
}