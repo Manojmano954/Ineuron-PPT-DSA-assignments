{
  "nbformat": 4,
  "nbformat_minor": 0,
  "metadata": {
    "colab": {
      "provenance": []
    },
    "kernelspec": {
      "name": "python3",
      "display_name": "Python 3"
    },
    "language_info": {
      "name": "python"
    }
  },
  "cells": [
    {
      "cell_type": "markdown",
      "source": [
        "\n",
        "\n",
        "Question 1 Given an integer array nums of length n and an integer target, find three integers in nums such that the sum is closest to the target. Return the sum of the three integers.\n",
        "\n",
        "You may assume that each input would have exactly one solution.\n",
        "\n",
        "Example 1: Input: nums = [-1,2,1,-4], target = 1 Output: 2\n",
        "\n",
        "Explanation: The sum that is closest to the target is 2. (-1 + 2 + 1 = 2).\n"
      ],
      "metadata": {
        "id": "KKsC28m8Lztc"
      }
    },
    {
      "cell_type": "code",
      "execution_count": 1,
      "metadata": {
        "id": "FATIHbk0Luu0"
      },
      "outputs": [],
      "source": [
        "def three_sum_closest(nums, target):\n",
        "    nums.sort()\n",
        "    closest_sum = float('inf')\n",
        "\n",
        "    for i in range(len(nums) - 2):\n",
        "        left = i + 1\n",
        "        right = len(nums) - 1\n",
        "\n",
        "        while left < right:\n",
        "            curr_sum = nums[i] + nums[left] + nums[right]\n",
        "            if curr_sum == target:\n",
        "                return curr_sum\n",
        "\n",
        "            if abs(curr_sum - target) < abs(closest_sum - target):\n",
        "                closest_sum = curr_sum\n",
        "\n",
        "            if curr_sum < target:\n",
        "                left += 1\n",
        "            else:\n",
        "                right -= 1\n",
        "\n",
        "    return closest_sum"
      ]
    },
    {
      "cell_type": "code",
      "source": [
        "nums = [-1, 2, 1, -4]\n",
        "target = 1\n",
        "result = three_sum_closest(nums, target)\n",
        "print(result)"
      ],
      "metadata": {
        "colab": {
          "base_uri": "https://localhost:8080/"
        },
        "id": "ltMjN76bMUQs",
        "outputId": "7e5f72cc-326c-4bcf-956c-cfc4a0b8c1f2"
      },
      "execution_count": 2,
      "outputs": [
        {
          "output_type": "stream",
          "name": "stdout",
          "text": [
            "2\n"
          ]
        }
      ]
    },
    {
      "cell_type": "markdown",
      "source": [
        "\n",
        "\n",
        "Question 2 Given an array nums of n integers, return an array of all the unique quadruplets [nums[a], nums[b], nums[c], nums[d]] such that: ● 0 <= a, b, c, d < n ● a, b, c, and d are distinct. ● nums[a] + nums[b] + nums[c] + nums[d] == target\n",
        "\n",
        "You may return the answer in any order.\n",
        "\n",
        "Example 1: Input: nums = [1,0,-1,0,-2,2], target = 0 Output: [[-2,-1,1,2],[-2,0,0,2],[-1,0,0,1]]\n"
      ],
      "metadata": {
        "id": "uzdxAUauMcX8"
      }
    },
    {
      "cell_type": "code",
      "source": [
        "def four_sum(nums, target):\n",
        "    nums.sort()\n",
        "    n = len(nums)\n",
        "    quadruplets = []\n",
        "\n",
        "    for i in range(n - 3):\n",
        "        if i > 0 and nums[i] == nums[i - 1]:\n",
        "            continue\n",
        "\n",
        "        for j in range(i + 1, n - 2):\n",
        "            if j > i + 1 and nums[j] == nums[j - 1]:\n",
        "                continue\n",
        "\n",
        "            left = j + 1\n",
        "            right = n - 1\n",
        "\n",
        "            while left < right:\n",
        "                curr_sum = nums[i] + nums[j] + nums[left] + nums[right]\n",
        "\n",
        "                if curr_sum == target:\n",
        "                    quadruplets.append([nums[i], nums[j], nums[left], nums[right]])\n",
        "\n",
        "                    while left < right and nums[left] == nums[left + 1]:\n",
        "                        left += 1\n",
        "                    while left < right and nums[right] == nums[right - 1]:\n",
        "                        right -= 1\n",
        "\n",
        "                    left += 1\n",
        "                    right -= 1\n",
        "\n",
        "                elif curr_sum < target:\n",
        "                    left += 1\n",
        "                else:\n",
        "                    right -= 1\n",
        "\n",
        "    return quadruplets\n",
        "\n",
        "nums = [1, 0, -1, 0, -2, 2]\n",
        "target = 0\n",
        "result = four_sum(nums, target)\n",
        "print(result)\n",
        "\n"
      ],
      "metadata": {
        "colab": {
          "base_uri": "https://localhost:8080/"
        },
        "id": "kmfm0ycSMX7R",
        "outputId": "32292888-3598-4750-f07b-6e9ca23335dc"
      },
      "execution_count": 3,
      "outputs": [
        {
          "output_type": "stream",
          "name": "stdout",
          "text": [
            "[[-2, -1, 1, 2], [-2, 0, 0, 2], [-1, 0, 0, 1]]\n"
          ]
        }
      ]
    },
    {
      "cell_type": "markdown",
      "source": [
        "\n",
        "\n",
        "Question 3 A permutation of an array of integers is an arrangement of its members into a sequence or linear order.\n",
        "\n",
        "For example, for arr = [1,2,3], the following are all the permutations of arr: [1,2,3], [1,3,2], [2, 1, 3], [2, 3, 1], [3,1,2], [3,2,1].\n",
        "\n",
        "The next permutation of an array of integers is the next lexicographically greater permutation of its integer. More formally, if all the permutations of the array are sorted in one container according to their lexicographical order, then the next permutation of that array is the permutation that follows it in the sorted container.\n",
        "\n",
        "If such an arrangement is not possible, the array must be rearranged as the lowest possible order (i.e., sorted in ascending order).\n",
        "\n",
        "● For example, the next permutation of arr = [1,2,3] is [1,3,2]. ● Similarly, the next permutation of arr = [2,3,1] is [3,1,2]. ● While the next permutation of arr = [3,2,1] is [1,2,3] because [3,2,1] does not have a lexicographical larger rearrangement.\n",
        "\n",
        "Given an array of integers nums, find the next permutation of nums. The replacement must be in place and use only constant extra memory.\n",
        "\n",
        "Example 1: Input: nums = [1,2,3] Output: [1,3,2]\n"
      ],
      "metadata": {
        "id": "6rdPqOhDMpCk"
      }
    },
    {
      "cell_type": "code",
      "source": [
        "def next_permutation(nums):\n",
        "    n = len(nums)\n",
        "    i = n - 2\n",
        "\n",
        "    while i >= 0 and nums[i] >= nums[i + 1]:\n",
        "        i -= 1\n",
        "\n",
        "    if i >= 0:\n",
        "        j = n - 1\n",
        "        while j >= 0 and nums[j] <= nums[i]:\n",
        "            j -= 1\n",
        "        nums[i], nums[j] = nums[j], nums[i]\n",
        "\n",
        "    left = i + 1\n",
        "    right = n - 1\n",
        "    while left < right:\n",
        "        nums[left], nums[right] = nums[right], nums[left]\n",
        "        left += 1\n",
        "        right -= 1\n",
        "\n",
        "    return nums\n",
        "\n",
        "nums = [1, 2, 3]\n",
        "result = next_permutation(nums)\n",
        "print(result)\n",
        "\n"
      ],
      "metadata": {
        "colab": {
          "base_uri": "https://localhost:8080/"
        },
        "id": "0gB5OmUpMkB5",
        "outputId": "66a76a07-80da-45cf-a43a-887d51d32ef8"
      },
      "execution_count": 4,
      "outputs": [
        {
          "output_type": "stream",
          "name": "stdout",
          "text": [
            "[1, 3, 2]\n"
          ]
        }
      ]
    },
    {
      "cell_type": "markdown",
      "source": [
        "\n",
        "\n",
        "Question 4 Given a sorted array of distinct integers and a target value, return the index if the target is found. If not, return the index where it would be if it were inserted in order.\n",
        "\n",
        "You must write an algorithm with O(log n) runtime complexity.\n",
        "\n",
        "Example 1: Input: nums = [1,3,5,6], target = 5 Output: 2\n"
      ],
      "metadata": {
        "id": "E_23jte0M40i"
      }
    },
    {
      "cell_type": "code",
      "source": [
        "def search_insert(nums, target):\n",
        "    left = 0\n",
        "    right = len(nums) - 1\n",
        "\n",
        "    while left <= right:\n",
        "        mid = (left + right) // 2\n",
        "\n",
        "        if nums[mid] == target:\n",
        "            return mid\n",
        "\n",
        "        if nums[mid] < target:\n",
        "            left = mid + 1\n",
        "        else:\n",
        "            right = mid - 1\n",
        "\n",
        "    return left\n",
        "\n",
        "nums = [1, 3, 5, 6]\n",
        "target = 5\n",
        "result = search_insert(nums, target)\n",
        "print(result)\n",
        "\n"
      ],
      "metadata": {
        "colab": {
          "base_uri": "https://localhost:8080/"
        },
        "id": "RAKEdOsSMych",
        "outputId": "1f974697-7f9a-47b3-8144-14554423327b"
      },
      "execution_count": 5,
      "outputs": [
        {
          "output_type": "stream",
          "name": "stdout",
          "text": [
            "2\n"
          ]
        }
      ]
    },
    {
      "cell_type": "markdown",
      "source": [
        "\n",
        "\n",
        "Question 5 You are given a large integer represented as an integer array digits, where each digits[i] is the ith digit of the integer. The digits are ordered from most significant to least significant in left-to-right order. The large integer does not contain any leading 0's.\n",
        "\n",
        "Increment the large integer by one and return the resulting array of digits.\n",
        "\n",
        "Example 1: Input: digits = [1,2,3] Output: [1,2,4]\n",
        "\n",
        "Explanation: The array represents the integer 123. Incrementing by one gives 123 + 1 = 124. Thus, the result should be [1,2,4].\n"
      ],
      "metadata": {
        "id": "GDGus8SVNAiN"
      }
    },
    {
      "cell_type": "code",
      "source": [
        "def plus_one(digits):\n",
        "    n = len(digits)\n",
        "\n",
        "    # Traverse the digits in reverse order\n",
        "    for i in range(n - 1, -1, -1):\n",
        "        # Increment the current digit\n",
        "        digits[i] += 1\n",
        "\n",
        "        # If the digit becomes 10, set it to 0 and carry over to the next digit\n",
        "        if digits[i] == 10:\n",
        "            digits[i] = 0\n",
        "        else:\n",
        "            # If the digit is less than 10, no need to carry over, so return the digits\n",
        "            return digits\n",
        "\n",
        "    # If all digits were 9, we need to add an additional digit at the front\n",
        "    return [1] + digits\n",
        "\n",
        "digits = [1, 2, 3]\n",
        "result = plus_one(digits)\n",
        "print(result)\n",
        "\n"
      ],
      "metadata": {
        "colab": {
          "base_uri": "https://localhost:8080/"
        },
        "id": "E4NOGDG6M89r",
        "outputId": "85d25425-568c-4e12-c427-e6b5e6ee8795"
      },
      "execution_count": 6,
      "outputs": [
        {
          "output_type": "stream",
          "name": "stdout",
          "text": [
            "[1, 2, 4]\n"
          ]
        }
      ]
    },
    {
      "cell_type": "markdown",
      "source": [
        "\n",
        "\n",
        "Question 6 Given a non-empty array of integers nums, every element appears twice except for one. Find that single one.\n",
        "\n",
        "You must implement a solution with a linear runtime complexity and use only constant extra space.\n",
        "\n",
        "Example 1: Input: nums = [2,2,1] Output: 1\n"
      ],
      "metadata": {
        "id": "eAexHS50NI8b"
      }
    },
    {
      "cell_type": "code",
      "source": [
        "def find_single_number(nums):\n",
        "    result = 0\n",
        "    for num in nums:\n",
        "        result ^= num\n",
        "    return result\n",
        "\n",
        "nums = [2, 2, 1]\n",
        "result = find_single_number(nums)\n",
        "print(result)\n",
        "\n"
      ],
      "metadata": {
        "colab": {
          "base_uri": "https://localhost:8080/"
        },
        "id": "E4blNHHBNEB6",
        "outputId": "903563b6-80bd-466a-da6f-115f75e851fb"
      },
      "execution_count": 7,
      "outputs": [
        {
          "output_type": "stream",
          "name": "stdout",
          "text": [
            "1\n"
          ]
        }
      ]
    },
    {
      "cell_type": "markdown",
      "source": [
        "\n",
        "\n",
        "Question 7 You are given an inclusive range [lower, upper] and a sorted unique integer array nums, where all elements are within the inclusive range.\n",
        "\n",
        "A number x is considered missing if x is in the range [lower, upper] and x is not in nums.\n",
        "\n",
        "Return the shortest sorted list of ranges that exactly covers all the missing numbers. That is, no element of nums is included in any of the ranges, and each missing number is covered by one of the ranges.\n",
        "\n",
        "Example 1: Input: nums = [0,1,3,50,75], lower = 0, upper = 99 Output: [[2,2],[4,49],[51,74],[76,99]]\n",
        "\n",
        "Explanation: The ranges are: [2,2] [4,49] [51,74] [76,99]\n"
      ],
      "metadata": {
        "id": "QoYLF4RINaki"
      }
    },
    {
      "cell_type": "code",
      "source": [
        "def find_missing_ranges(nums, lower, upper):\n",
        "    result = []\n",
        "    prev = lower - 1\n",
        "\n",
        "    for num in nums + [upper + 1]:\n",
        "        if num == prev + 2:\n",
        "            result.append([prev + 1, prev + 1])\n",
        "        elif num > prev + 2:\n",
        "            result.append([prev + 1, num - 1])\n",
        "\n",
        "        prev = num\n",
        "\n",
        "    return result\n",
        "\n",
        "nums = [0, 1, 3, 50, 75]\n",
        "lower = 0\n",
        "upper = 99\n",
        "result = find_missing_ranges(nums, lower, upper)\n",
        "print(result)\n",
        "\n"
      ],
      "metadata": {
        "colab": {
          "base_uri": "https://localhost:8080/"
        },
        "id": "TZ7PED_dNPP-",
        "outputId": "07ab537a-5b31-4baf-b5e1-0067c4bfebd6"
      },
      "execution_count": 8,
      "outputs": [
        {
          "output_type": "stream",
          "name": "stdout",
          "text": [
            "[[2, 2], [4, 49], [51, 74], [76, 99]]\n"
          ]
        }
      ]
    },
    {
      "cell_type": "markdown",
      "source": [
        "\n",
        "\n",
        "Question 8 Given an array of meeting time intervals where intervals[i] = [starti, endi], determine if a person could attend all meetings.\n",
        "\n",
        "Example 1: Input: intervals = [[0,30],[5,10],[15,20]] Output: false\n"
      ],
      "metadata": {
        "id": "ga35mgTpNk7M"
      }
    },
    {
      "cell_type": "code",
      "source": [
        "def check_meeting_availability(intervals):\n",
        "    intervals.sort(key=lambda x: x[0])  # Sort intervals based on start time\n",
        "\n",
        "    for i in range(1, len(intervals)):\n",
        "        if intervals[i][0] < intervals[i-1][1]:\n",
        "            return False\n",
        "\n",
        "    return True\n",
        "\n",
        "intervals = [[0, 30], [5, 10], [15, 20]]\n",
        "result = check_meeting_availability(intervals)\n",
        "print(result)\n",
        "\n"
      ],
      "metadata": {
        "colab": {
          "base_uri": "https://localhost:8080/"
        },
        "id": "TC3_Xx-TNfK5",
        "outputId": "87487362-a70b-4881-b428-ec78e3791534"
      },
      "execution_count": 9,
      "outputs": [
        {
          "output_type": "stream",
          "name": "stdout",
          "text": [
            "False\n"
          ]
        }
      ]
    },
    {
      "cell_type": "code",
      "source": [],
      "metadata": {
        "id": "3lrJBIJnNoyP"
      },
      "execution_count": null,
      "outputs": []
    }
  ]
}