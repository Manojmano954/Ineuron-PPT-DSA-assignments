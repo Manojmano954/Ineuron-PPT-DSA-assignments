{
  "nbformat": 4,
  "nbformat_minor": 0,
  "metadata": {
    "colab": {
      "provenance": []
    },
    "kernelspec": {
      "name": "python3",
      "display_name": "Python 3"
    },
    "language_info": {
      "name": "python"
    }
  },
  "cells": [
    {
      "cell_type": "markdown",
      "source": [
        "Question 1\n",
        "\n",
        "Convert 1D Array Into 2D Array\n",
        "\n",
        "You are given a 0-indexed 1-dimensional (1D) integer array original, and two integers, m and n. You are tasked with creating a 2-dimensional (2D) array with  m rows and n columns using all the elements from original.\n",
        "\n",
        "The elements from indices 0 to n - 1 (inclusive) of original should form the first row of the constructed 2D array, the elements from indices n to 2 * n - 1 (inclusive) should form the second row of the constructed 2D array, and so on.\n",
        "\n",
        "Return an m x n 2D array constructed according to the above procedure, or an empty 2D array if it is impossible.\n",
        "\n",
        "Example 1:\n",
        "\n",
        "Input: original = [1,2,3,4], m = 2, n = 2\n",
        "\n",
        "Output: [[1,2],[3,4]]\n",
        "\n",
        "Explanation: The constructed 2D array should contain 2 rows and 2 columns.\n",
        "\n",
        "The first group of n=2 elements in original, [1,2], becomes the first row in the constructed 2D array.\n",
        "\n",
        "The second group of n=2 elements in original, [3,4], becomes the second row in the constructed 2D array."
      ],
      "metadata": {
        "id": "dHUEi7sTGdVS"
      }
    },
    {
      "cell_type": "code",
      "execution_count": 1,
      "metadata": {
        "colab": {
          "base_uri": "https://localhost:8080/"
        },
        "id": "CHk_azPNGZAq",
        "outputId": "e94e4b57-1d10-4d76-dc93-2d9e69473633"
      },
      "outputs": [
        {
          "output_type": "stream",
          "name": "stdout",
          "text": [
            "[[1, 2], [3, 4]]\n"
          ]
        }
      ],
      "source": [
        "def convert_to_2d(original, m, n):\n",
        "    if m * n != len(original):\n",
        "        return []  # Return empty 2D array if it's impossible\n",
        "\n",
        "    result = []\n",
        "    for i in range(0, len(original), n):\n",
        "        result.append(original[i:i+n])\n",
        "\n",
        "    return result\n",
        "original = [1, 2, 3, 4]\n",
        "m = 2\n",
        "n = 2\n",
        "print(convert_to_2d(original, m, n))"
      ]
    },
    {
      "cell_type": "markdown",
      "source": [
        "Question 2\n",
        "\n",
        "You have n coins and you want to build a staircase with these coins. The staircase consists of k rows where the ith row has exactly i coins. The last row of the staircase may be incomplete.\n",
        "\n",
        "Given the integer n, return the number of complete rows* of the staircase you will build*.\n",
        "\n",
        "Example 1Input:** n = 5\n",
        "\n",
        "Output: 2\n",
        "\n",
        "Explanation: Because the 3rd row is incomplete, we return 2."
      ],
      "metadata": {
        "id": "aP2rCFe6Gtd5"
      }
    },
    {
      "cell_type": "code",
      "source": [
        "def complete_rows(n):\n",
        "    left = 0\n",
        "    right = n\n",
        "\n",
        "    while left <= right:\n",
        "        mid = left + (right - left) // 2\n",
        "        coins_required = (mid * (mid + 1)) // 2\n",
        "\n",
        "        if coins_required == n:\n",
        "            return mid\n",
        "\n",
        "        if coins_required < n:\n",
        "            left = mid + 1\n",
        "        else:\n",
        "            right = mid - 1\n",
        "\n",
        "    return right\n",
        "n = 5\n",
        "print(complete_rows(n))\n"
      ],
      "metadata": {
        "colab": {
          "base_uri": "https://localhost:8080/"
        },
        "id": "uVfayB4sGsit",
        "outputId": "5f9fb252-6ec8-485d-d221-7a2057659c64"
      },
      "execution_count": 2,
      "outputs": [
        {
          "output_type": "stream",
          "name": "stdout",
          "text": [
            "2\n"
          ]
        }
      ]
    },
    {
      "cell_type": "markdown",
      "source": [
        "Question 3\n",
        "\n",
        "Given an integer array nums sorted in non-decreasing order, return an array of the squares of each number* sorted in non-decreasing order*.\n",
        "\n",
        "Example 1:\n",
        "\n",
        "Input: nums = [-4,-1,0,3,10]\n",
        "\n",
        "Output: [0,1,9,16,100]\n",
        "\n",
        "Explanation: After squaring, the array becomes [16,1,0,9,100].\n",
        "\n",
        "After sorting, it becomes [0,1,9,16,100]."
      ],
      "metadata": {
        "id": "1viZ1PiUG0yQ"
      }
    },
    {
      "cell_type": "code",
      "source": [
        "def s_squares(nums):\n",
        "    squared = [num ** 2 for num in nums]\n",
        "    squared.sort()\n",
        "    return squared\n",
        "s_squares([-4,-1,0,3,10])"
      ],
      "metadata": {
        "colab": {
          "base_uri": "https://localhost:8080/"
        },
        "id": "F6u6h43SGz8X",
        "outputId": "384899c2-ee18-4022-970f-59a35d797f84"
      },
      "execution_count": 3,
      "outputs": [
        {
          "output_type": "execute_result",
          "data": {
            "text/plain": [
              "[0, 1, 9, 16, 100]"
            ]
          },
          "metadata": {},
          "execution_count": 3
        }
      ]
    },
    {
      "cell_type": "markdown",
      "source": [
        "Question 4\n",
        "\n",
        "Given two 0-indexed integer arrays nums1 and nums2, return a list answer of size 2 where:\n",
        "\n",
        "answer[0] is a list of all distinct* integers in* nums1 which are not* present in* nums2.\n",
        "answer[1] is a list of all distinct* integers in* nums2 which are not* present in* nums1.\n",
        "Note that the integers in the lists may be returned in any order.\n",
        "\n",
        "Example 1:\n",
        "\n",
        "Input: nums1 = [1,2,3], nums2 = [2,4,6]\n",
        "\n",
        "Output: [[1,3],[4,6]]\n",
        "\n",
        "Explanation:\n",
        "\n",
        "For nums1, nums1[1] = 2 is present at index 0 of nums2, whereas nums1[0] = 1 and nums1[2] = 3 are not present in nums2. Therefore, answer[0] = [1,3].\n",
        "\n",
        "For nums2, nums2[0] = 2 is present at index 1 of nums1, whereas nums2[1] = 4 and nums2[2] = 6 are not present in nums2. Therefore, answer[1] = [4,6]."
      ],
      "metadata": {
        "id": "4qg3wItIG-qa"
      }
    },
    {
      "cell_type": "code",
      "source": [
        "def find_missing_elements(nums1, nums2):\n",
        "    distinct_nums1 = set(nums1)\n",
        "    distinct_nums2 = set(nums2)\n",
        "\n",
        "    answer = []\n",
        "    answer.append([num for num in distinct_nums1 if num not in distinct_nums2])\n",
        "    answer.append([num for num in distinct_nums2 if num not in distinct_nums1])\n",
        "\n",
        "    return answer\n",
        "nums1 = [1, 2, 3]\n",
        "nums2 = [2, 4, 6]\n",
        "print(find_missing_elements(nums1, nums2))"
      ],
      "metadata": {
        "colab": {
          "base_uri": "https://localhost:8080/"
        },
        "id": "WMrftH6hG7FG",
        "outputId": "48636a51-6081-4446-f24a-da096d7b2e42"
      },
      "execution_count": 4,
      "outputs": [
        {
          "output_type": "stream",
          "name": "stdout",
          "text": [
            "[[1, 3], [4, 6]]\n"
          ]
        }
      ]
    },
    {
      "cell_type": "markdown",
      "source": [
        "Question 5\n",
        "\n",
        "Given two integer arrays arr1 and arr2, and the integer d, return the distance value between the two arrays.\n",
        "\n",
        "The distance value is defined as the number of elements arr1[i] such that there is not any element arr2[j] where |arr1[i]-arr2[j]| <= d.\n",
        "\n",
        "Example 1:\n",
        "\n",
        "Input: arr1 = [4,5,8], arr2 = [10,9,1,8], d = 2\n",
        "\n",
        "Output: 2\n",
        "\n",
        "Explanation:\n",
        "\n",
        "For arr1[0]=4 we have:\n",
        "\n",
        "|4-10|=6 > d=2\n",
        "\n",
        "|4-9|=5 > d=2\n",
        "\n",
        "|4-1|=3 > d=2\n",
        "\n",
        "|4-8|=4 > d=2\n",
        "|4-8|=4 > d=2\n",
        "\n",
        "For arr1[1]=5 we have:\n",
        "\n",
        "|5-10|=5 > d=2\n",
        "\n",
        "|5-9|=4 > d=2\n",
        "\n",
        "|5-1|=4 > d=2\n",
        "\n",
        "|5-8|=3 > d=2\n",
        "\n",
        "For arr1[2]=8 we have:\n",
        "\n",
        "|8-10|=2 <= d=2\n",
        "\n",
        "|8-9|=1 <= d=2\n",
        "\n",
        "|8-1|=7 > d=2\n",
        "\n",
        "|8-8|=0 <= d=2"
      ],
      "metadata": {
        "id": "9QfwwB6jHHVe"
      }
    },
    {
      "cell_type": "code",
      "source": [
        "def distance_value(arr1, arr2, d):\n",
        "    count = 0\n",
        "    for num1 in arr1:\n",
        "        found = False\n",
        "        for num2 in arr2:\n",
        "            if abs(num1 - num2) <= d:\n",
        "                found = True\n",
        "                break\n",
        "        if not found:\n",
        "            count += 1\n",
        "    return count\n",
        "arr1 = [4, 5, 8]\n",
        "arr2 = [10, 9, 1, 8]\n",
        "d = 2\n",
        "print(distance_value(arr1, arr2, d))"
      ],
      "metadata": {
        "colab": {
          "base_uri": "https://localhost:8080/"
        },
        "id": "ZkNQCra3HB5o",
        "outputId": "14ec97e3-c522-4428-8d42-415fb51a8289"
      },
      "execution_count": 5,
      "outputs": [
        {
          "output_type": "stream",
          "name": "stdout",
          "text": [
            "2\n"
          ]
        }
      ]
    },
    {
      "cell_type": "markdown",
      "source": [
        "Question 6\n",
        "\n",
        "Given an integer array nums of length n where all the integers of nums are in the range [1, n] and each integer appears once or twice, return an array of all the integers that appears twice**.\n",
        "\n",
        "You must write an algorithm that runs in O(n) time and uses only constant extra space.\n",
        "\n",
        "Example 1:\n",
        "\n",
        "Input: nums = [4,3,2,7,8,2,3,1]\n",
        "\n",
        "Output:\n",
        "\n",
        "[2,3]"
      ],
      "metadata": {
        "id": "bsetI8RxHU4I"
      }
    },
    {
      "cell_type": "code",
      "source": [
        "def duplicates(nums):\n",
        "    result = []\n",
        "\n",
        "    for num in nums:\n",
        "        idx = abs(num) - 1\n",
        "        if nums[idx] < 0:\n",
        "            result.append(abs(num))\n",
        "        else:\n",
        "            nums[idx] = -nums[idx]\n",
        "\n",
        "    return result\n",
        "nums = [4, 3, 2, 7, 8, 2, 3, 1]\n",
        "print(duplicates(nums))"
      ],
      "metadata": {
        "colab": {
          "base_uri": "https://localhost:8080/"
        },
        "id": "Gv7yY0ZJHRIY",
        "outputId": "0921367c-bd00-49b3-988b-0d5792317f1f"
      },
      "execution_count": 6,
      "outputs": [
        {
          "output_type": "stream",
          "name": "stdout",
          "text": [
            "[2, 3]\n"
          ]
        }
      ]
    },
    {
      "cell_type": "markdown",
      "source": [
        "Question 7\n",
        "\n",
        "Suppose an array of length n sorted in ascending order is rotated between 1 and n times. For example, the array nums = [0,1,2,4,5,6,7] might become:\n",
        "\n",
        "[4,5,6,7,0,1,2] if it was rotated 4 times.\n",
        "[0,1,2,4,5,6,7] if it was rotated 7 times.\n",
        "Notice that rotating an array [a[0], a[1], a[2], ..., a[n-1]] 1 time results in the array [a[n-1], a[0], a[1], a[2], ..., a[n-2]].\n",
        "\n",
        "Given the sorted rotated array nums of unique elements, return the minimum element of this array.\n",
        "\n",
        "You must write an algorithm that runs in O(log n) time.\n",
        "\n",
        "Example 1:\n",
        "\n",
        "Input: nums = [3,4,5,1,2]\n",
        "\n",
        "Output: 1\n",
        "\n",
        "Explanation:The original array was [1,2,3,4,5] rotated 3 times."
      ],
      "metadata": {
        "id": "11TMWzWkHdFG"
      }
    },
    {
      "cell_type": "code",
      "source": [
        "def find_minimum(nums):\n",
        "    left = 0\n",
        "    right = len(nums) - 1\n",
        "\n",
        "    while left < right:\n",
        "        mid = (left + right) // 2\n",
        "\n",
        "        if nums[mid] > nums[right]:\n",
        "            left = mid + 1\n",
        "        else:\n",
        "            right = mid\n",
        "\n",
        "    return nums[left]\n",
        "nums = [3, 4, 5, 1, 2]\n",
        "print(find_minimum(nums))"
      ],
      "metadata": {
        "colab": {
          "base_uri": "https://localhost:8080/"
        },
        "id": "1DrOaf-BHZAm",
        "outputId": "c05ba241-97d4-4b0f-9137-477057b0079a"
      },
      "execution_count": 7,
      "outputs": [
        {
          "output_type": "stream",
          "name": "stdout",
          "text": [
            "1\n"
          ]
        }
      ]
    },
    {
      "cell_type": "markdown",
      "source": [
        "Question 8\n",
        "\n",
        "An integer array original is transformed into a doubled array changed by appending twice the value of every element in original, and then randomly shuffling the resulting array.\n",
        "\n",
        "Given an array changed, return original if changed is a doubled* array. If* changed is not a doubled* array, return an empty array. The elements in* original may be returned in any* order*.\n",
        "\n",
        "Example 1:\n",
        "\n",
        "Input: changed = [1,3,4,2,6,8]\n",
        "\n",
        "Output: [1,3,4]\n",
        "\n",
        "Explanation: One possible original array could be [1,3,4]:\n",
        "\n",
        "Twice the value of 1 is 1 * 2 = 2.\n",
        "Twice the value of 3 is 3 * 2 = 6.\n",
        "Twice the value of 4 is 4 * 2 = 8.\n",
        "Other original arrays could be [4,3,1] or [3,1,4]."
      ],
      "metadata": {
        "id": "ShefhTw7HsEh"
      }
    },
    {
      "cell_type": "code",
      "source": [
        "def find(changed):\n",
        "    if len(changed) % 2 != 0:\n",
        "        return []\n",
        "\n",
        "    changed.sort()\n",
        "    seen = set()\n",
        "    result = []\n",
        "\n",
        "    for num in changed:\n",
        "        if num / 2 in seen:\n",
        "            seen.remove(num / 2)\n",
        "            result.append(int(num / 2))\n",
        "        else:\n",
        "            seen.add(num)\n",
        "\n",
        "    if len(seen) > 0:\n",
        "        return []\n",
        "\n",
        "    return result\n",
        "changed = [1, 3, 4, 2, 6, 8]\n",
        "original = find(changed)\n",
        "print(original)"
      ],
      "metadata": {
        "colab": {
          "base_uri": "https://localhost:8080/"
        },
        "id": "SQ1zu7usHpvt",
        "outputId": "c97fefb7-6278-4b9a-ed83-3cda617fb3c5"
      },
      "execution_count": 9,
      "outputs": [
        {
          "output_type": "stream",
          "name": "stdout",
          "text": [
            "[1, 3, 4]\n"
          ]
        }
      ]
    },
    {
      "cell_type": "code",
      "source": [],
      "metadata": {
        "id": "eGyUZIC_Hx1h"
      },
      "execution_count": null,
      "outputs": []
    }
  ]
}